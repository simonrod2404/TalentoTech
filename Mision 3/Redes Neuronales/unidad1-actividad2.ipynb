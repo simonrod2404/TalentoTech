import numpy as np
import scipy as sc
import matplotlib.pyplot as plt
from sklearn.datasets import make_circles
#Creamos nuestros datos artificiales, donde buscaremos clasificar
#dos anillos concéntricos de datos.
X, Y = make_circles(n_samples=500, factor=0.5, noise=0.05)
#Resolución del mapa de predicción.
res = 100
#Coordendadas del mapa de predicción.
_x0 = np.linspace(-1.5, 1.5, res)
_x1 = np.linspace(-1.5, 1.5, res)
#Input con cada combo de coordenadas del mapa de predicción.
pX = np.array(np.meshgrid(_x0, _x1)).T.reshape(-1, 2)
#objeto vacio a 0.5 del mapa de predicción.
PY = np.zeros((res, res)) + 0.5
#Visualización del mapa de predicción.
plt.figure(figsize=(8, 8))
plt.pcolormesh(_x0, _x1, PY, cmap="coolwarm", vmin=0, vmax=1)
#Visualización de la nube de datos.
plt.scatter (X[Y == 0,0], X[Y == 0,1], c="skyblue") 
plt.scatter (X[Y == 1,0], X[Y == 1,1], c="salmon")
plt.tick_params(labelbottom=False, labelleft=False)