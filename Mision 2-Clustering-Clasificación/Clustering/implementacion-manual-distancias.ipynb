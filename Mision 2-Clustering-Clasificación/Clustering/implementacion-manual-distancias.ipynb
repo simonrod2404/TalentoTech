{
 "cells": [
  {
   "cell_type": "code",
   "execution_count": 45,
   "metadata": {},
   "outputs": [
    {
     "name": "stdout",
     "output_type": "stream",
     "text": [
      "Distancia euclidiana entre los puntos: 5.0\n"
     ]
    }
   ],
   "source": [
    "import numpy as np\n",
    "def calcular_distancia(p1, p2):\n",
    "    return np.sqrt((p1[0] - p2[0])**2 + (p1[1] - p2[1])**2)\n",
    "\n",
    "point1 = [1, 2]\n",
    "point2 = [4, 6]\n",
    "\n",
    "print(f'Distancia euclidiana entre los puntos: {calcular_distancia(point1, point2)}')\n"
   ]
  },
  {
   "cell_type": "code",
   "execution_count": 46,
   "metadata": {},
   "outputs": [
    {
     "name": "stdout",
     "output_type": "stream",
     "text": [
      "Distancia Manhattan entre los puntos: 7\n"
     ]
    }
   ],
   "source": [
    "def calcular_distancia_Manhattan(p1, p2):\n",
    "    return np.abs(p1[0] - p2[0]) + np.abs(p1[1] - p2[1])\n",
    "\n",
    "print(f'Distancia Manhattan entre los puntos: {calcular_distancia_Manhattan(point1, point2)}')"
   ]
  },
  {
   "cell_type": "code",
   "execution_count": 47,
   "metadata": {},
   "outputs": [
    {
     "data": {
      "image/png": "[encoded data removed]",
      "text/plain": [
       "<Figure size 640x480 with 1 Axes>"
      ]
     },
     "metadata": {},
     "output_type": "display_data"
    },
    {
     "data": {
      "text/plain": [
       "Text(0.5, 1.0, 'Distancia Manhattan')"
      ]
     },
     "execution_count": 47,
     "metadata": {},
     "output_type": "execute_result"
    },
    {
     "data": {
      "image/png": "[encoded data removed]",
      "text/plain": [
       "<Figure size 640x480 with 1 Axes>"
      ]
     },
     "metadata": {},
     "output_type": "display_data"
    }
   ],
   "source": [
    "#Haciendo grafico para apreciar la diferencia entre distancias\n",
    "import matplotlib.pyplot as plt\n",
    "\n",
    "#Distancia Euclidiana\n",
    "plt.xlim(0, 7)\n",
    "plt.ylim(0, 7)\n",
    "plt.scatter([point1[0], point2[0]], [point1[1], point2[1]])\n",
    "plt.plot([point1[0], point2[0]], [point1[1], point2[1]], 'r')\n",
    "plt.plot((point1[0], point2[0]), (point1[1], point1[1]), 'g', linestyle='dashed')\n",
    "plt.plot((point2[0], point2[0]), (point1[1], point2[1]), 'g', linestyle='dashed')\n",
    "plt.title('Distancia Euclidiana')\n",
    "plt.show()\n",
    "\n",
    "#Distancia Manhattan\n",
    "plt.xlim(0, 7)\n",
    "plt.ylim(0, 7)\n",
    "plt.scatter([point1[0], point2[0]], [point1[1], point2[1]])\n",
    "plt.plot((point1[0], point2[0]), (point1[1], point1[1]), 'r')\n",
    "plt.plot((point2[0], point2[0]), (point1[1], point2[1]), 'r')\n",
    "plt.title('Distancia Manhattan')\n"
   ]
  },
  {
   "cell_type": "code",
   "execution_count": 54,
   "metadata": {},
   "outputs": [
    {
     "name": "stdout",
     "output_type": "stream",
     "text": [
      "2\n",
      "[1, 2] \n",
      " [4, 6]\n"
     ]
    }
   ],
   "source": [
    "#Distancia de Hamming\n",
    "def calcular_distancia_Hamming(x, y):\n",
    "    distance = 0 \n",
    "    for nx, ny in zip(x, y):\n",
    "        if nx != ny:\n",
    "            distance +=1\n",
    "    return distance\n",
    "\n",
    "\n",
    "print(calcular_distancia_Hamming(point1, point2))\n",
    "print(point1, \"\\n\", point2)"
   ]
  },
  {
   "cell_type": "code",
   "execution_count": 158,
   "metadata": {},
   "outputs": [
    {
     "name": "stdout",
     "output_type": "stream",
     "text": [
      "4\n",
      "4\n"
     ]
    }
   ],
   "source": [
    "#Distancia de Chebyshev\n",
    "def calcular_distancia_cheb(p1, p2):\n",
    "    return np.max((np.abs(p1[0] - p2[0]), np.abs(p1[1] - p2[1])))\n",
    "\n",
    "print(calcular_distancia_cheb(point1, point2))\n",
    "\n",
    "#Validando resultado con funcion de scypy\n",
    "\n",
    "import scipy\n",
    "from scipy.spatial.distance import chebyshev\n",
    "print(chebyshev(point1, point2))\n"
   ]
  },
  {
   "cell_type": "code",
   "execution_count": 113,
   "metadata": {},
   "outputs": [
    {
     "name": "stdout",
     "output_type": "stream",
     "text": [
      "1.1\n",
      "1.1\n"
     ]
    }
   ],
   "source": [
    "#Distancia de Canberra\n",
    "def calcular_distancia_canberra(x, y):\n",
    "    distance = 0\n",
    "    for nx, ny in zip(x, y):\n",
    "        distance += np.abs(nx - ny) / (np.abs(nx) + np.abs(ny))\n",
    "    return distance\n",
    "\n",
    "print(calcular_distancia_canberra(point1, point2))\n",
    "\n",
    "\n",
    "# point1 = [1, 2]\n",
    "# point2 = [4, 6]\n",
    "\n",
    "print((np.abs(1 - 4) / (np.abs(1) + np.abs(4))) + (np.abs(2-6) / (np.abs(2) + np.abs(6))))"
   ]
  },
  {
   "cell_type": "code",
   "execution_count": 146,
   "metadata": {},
   "outputs": [
    {
     "name": "stdout",
     "output_type": "stream",
     "text": [
      "0.9922778767136677\n",
      "[[0.99227788]]\n"
     ]
    }
   ],
   "source": [
    "#Distancia de Coseno\n",
    "def calcular_distancia_coseno(x, y):\n",
    "    return np.dot(x, y) / (np.linalg.norm(x) * np.linalg.norm(y))\n",
    "\n",
    "print(calcular_distancia_coseno(point1, point2))\n",
    "\n",
    "#Validando funcion con funcion de sklearn\n",
    "import sklearn\n",
    "from sklearn.metrics.pairwise import cosine_similarity\n",
    "print(cosine_similarity([point1], [point2]))"
   ]
  },
  {
   "cell_type": "code",
   "execution_count": 155,
   "metadata": {},
   "outputs": [
    {
     "name": "stdout",
     "output_type": "stream",
     "text": [
      "1.0\n",
      "1.0\n"
     ]
    }
   ],
   "source": [
    "#Distancia de Jaccard\n",
    "def calcular_distancia_jaccard(x, y):\n",
    "    return 1 - len(np.intersect1d(x, y)) / len(np.concatenate((x, y)))\n",
    "\n",
    "print(calcular_distancia_jaccard(point1, point2))\n",
    "\n",
    "#Validando que el resultado este bien con funcion de sklearn  \n",
    "\n",
    "# Calculate Jaccard similarity\n",
    "jaccard_similarity = jaccard_score(point1, point2, average='weighted')\n",
    "\n",
    "# Calculate Jaccard distance\n",
    "jaccard_distance = 1 - jaccard_similarity\n",
    "\n",
    "print(jaccard_distance)"
   ]
  }
 ],
 "metadata": {
  "kernelspec": {
   "display_name": "Python 3",
   "language": "python",
   "name": "python3"
  },
  "language_info": {
   "codemirror_mode": {
    "name": "ipython",
    "version": 3
   },
   "file_extension": ".py",
   "mimetype": "text/x-python",
   "name": "python",
   "nbconvert_exporter": "python",
   "pygments_lexer": "ipython3",
   "version": "3.12.3"
  }
 },
 "nbformat": 4,
 "nbformat_minor": 2
}
