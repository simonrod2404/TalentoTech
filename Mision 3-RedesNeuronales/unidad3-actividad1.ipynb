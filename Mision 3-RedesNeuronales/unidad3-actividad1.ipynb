{
 "cells": [
  {
   "cell_type": "code",
   "execution_count": 7,
   "metadata": {},
   "outputs": [],
   "source": [
    "import cv2\n",
    "import numpy as np\n",
    "\n",
    "#Definiendo kernels de convolución\n",
    "kernel_1 = np.array([[0, -1, 0],\n",
    "                    [-1, 5, -1], \n",
    "                    [0, -1, 0]])\n",
    "\n",
    "kernel_2 = np.array([[-1, 0, 1], \n",
    "                     [-2, 0, 2], \n",
    "                     [-1, 0, 1]])\n",
    "\n",
    "kernel_3 = np.array([[-1, -2, -1],\n",
    "                     [0, 0, 0],\n",
    "                     [1, 2, 1]])\n",
    "\n",
    "\n",
    "kernels = [kernel_1, kernel_2, kernel_3]\n",
    "\n",
    "#Cargar la imagen\n",
    "img = cv2.imread('../data/gato.jpg')\n",
    "\n",
    "#Probando cada kernel\n",
    "for i, kernel in enumerate(kernels):\n",
    "    #Aplicar la convolución\n",
    "    convolved_image = cv2.filter2D(img, -1, kernel)\n",
    "\n",
    "    #Mostrar la imagen original y la imagen convolucionada\n",
    "    cv2.imshow('Original', img)\n",
    "    cv2.imshow(f'Convolucionada-{i+1}', convolved_image)\n",
    "    cv2.waitKey(0)\n"
   ]
  }
 ],
 "metadata": {
  "kernelspec": {
   "display_name": "Python 3",
   "language": "python",
   "name": "python3"
  },
  "language_info": {
   "codemirror_mode": {
    "name": "ipython",
    "version": 3
   },
   "file_extension": ".py",
   "mimetype": "text/x-python",
   "name": "python",
   "nbconvert_exporter": "python",
   "pygments_lexer": "ipython3",
   "version": "3.12.3"
  }
 },
 "nbformat": 4,
 "nbformat_minor": 2
}
