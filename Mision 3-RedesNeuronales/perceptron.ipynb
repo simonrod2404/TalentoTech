{
 "cells": [
  {
   "cell_type": "code",
   "execution_count": 39,
   "metadata": {},
   "outputs": [
    {
     "name": "stdout",
     "output_type": "stream",
     "text": [
      "(1 * 2) + (-1 * 1) + (1 * 3) + -5 = -1 -> max(0, -1) = 0\n"
     ]
    }
   ],
   "source": [
    "import numpy as np\n",
    "\n",
    "def relu(x):\n",
    "    return np.maximum(0, x)\n",
    "\n",
    "def red_de_una_neurona(pesos, bias, inputs):\n",
    "    # Calculando salida de la neurona antes de aplicar la función de activación\n",
    "    salida_pre_activacion = sum(w*x for w, x in zip(pesos, inputs)) + bias\n",
    "\n",
    "    # Aplicando la función de activación\n",
    "    salida_activada = relu(salida_pre_activacion)\n",
    "\n",
    "    # Añadiendo pasos de la calculación:\n",
    "    calculos = [f\"({w} * {x})\" for w, x in zip(pesos, inputs)]\n",
    "    cadena_salida = \"\"\n",
    "    for cal in calculos:\n",
    "        cadena_salida += f\"{cal} + \"\n",
    "\n",
    "    # Concatenamos la última parte con el bias y el resultado final\n",
    "    cadena_salida += f\"{bias} = {salida_pre_activacion} -> max(0, {salida_pre_activacion}) = {salida_activada}\"\n",
    "    return cadena_salida\n",
    "\n",
    "\n",
    "print(red_de_una_neurona([1, -1, 1], -5, [2, 1, 3]))\n"
   ]
  }
 ],
 "metadata": {
  "kernelspec": {
   "display_name": "Python 3",
   "language": "python",
   "name": "python3"
  },
  "language_info": {
   "codemirror_mode": {
    "name": "ipython",
    "version": 3
   },
   "file_extension": ".py",
   "mimetype": "text/x-python",
   "name": "python",
   "nbconvert_exporter": "python",
   "pygments_lexer": "ipython3",
   "version": "3.12.3"
  }
 },
 "nbformat": 4,
 "nbformat_minor": 2
}
